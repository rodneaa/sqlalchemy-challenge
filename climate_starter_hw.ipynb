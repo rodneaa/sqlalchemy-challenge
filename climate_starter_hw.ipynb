{
 "cells": [
  {
   "cell_type": "code",
   "execution_count": 97,
   "metadata": {
    "tags": []
   },
   "outputs": [],
   "source": [
    "%matplotlib inline\n",
    "from matplotlib import style\n",
    "style.use('fivethirtyeight')\n",
    "import matplotlib.pyplot as plt"
   ]
  },
  {
   "cell_type": "code",
   "execution_count": 98,
   "metadata": {
    "tags": []
   },
   "outputs": [],
   "source": [
    "import numpy as np\n",
    "import pandas as pd\n",
    "import datetime as dt\n",
    "from datetime import timedelta"
   ]
  },
  {
   "cell_type": "markdown",
   "metadata": {},
   "source": [
    "# Reflect Tables into SQLAlchemy ORM"
   ]
  },
  {
   "cell_type": "code",
   "execution_count": 99,
   "metadata": {
    "tags": []
   },
   "outputs": [],
   "source": [
    "# Python SQL toolkit and Object Relational Mapper\n",
    "import sqlalchemy\n",
    "from sqlalchemy.ext.automap import automap_base\n",
    "from sqlalchemy.orm import Session\n",
    "from sqlalchemy import create_engine, func, inspect"
   ]
  },
  {
   "cell_type": "code",
   "execution_count": 100,
   "metadata": {
    "tags": []
   },
   "outputs": [],
   "source": [
    "# create engine to hawaii.sqlite\n",
    "engine = create_engine(\"sqlite:///Resources/hawaii.sqlite\")"
   ]
  },
  {
   "cell_type": "code",
   "execution_count": 101,
   "metadata": {
    "tags": []
   },
   "outputs": [],
   "source": [
    "# reflect an existing database into a new model\n",
    "Base = automap_base()\n",
    "# reflect the tables\n",
    "Base.prepare(autoload_with=engine)"
   ]
  },
  {
   "cell_type": "code",
   "execution_count": 102,
   "metadata": {
    "tags": []
   },
   "outputs": [
    {
     "data": {
      "text/plain": [
       "['measurement', 'station']"
      ]
     },
     "execution_count": 102,
     "metadata": {},
     "output_type": "execute_result"
    }
   ],
   "source": [
    "# View all of the classes that automap found\n",
    "Base.classes.keys()"
   ]
  },
  {
   "cell_type": "code",
   "execution_count": 103,
   "metadata": {
    "tags": []
   },
   "outputs": [],
   "source": [
    "# Save references to each table\n",
    "Measurement = Base.classes.measurement\n",
    "Station = Base.classes.station"
   ]
  },
  {
   "cell_type": "code",
   "execution_count": 104,
   "metadata": {
    "tags": []
   },
   "outputs": [],
   "source": [
    "# Create our session (link) from Python to the DB\n",
    "session = Session(engine)\n",
    "Base.metadata.create_all(engine)"
   ]
  },
  {
   "cell_type": "markdown",
   "metadata": {},
   "source": [
    "# Exploratory Precipitation Analysis"
   ]
  },
  {
   "cell_type": "code",
   "execution_count": 105,
   "metadata": {
    "tags": []
   },
   "outputs": [
    {
     "name": "stdout",
     "output_type": "stream",
     "text": [
      "id INTEGER\n",
      "station TEXT\n",
      "date TEXT\n",
      "prcp FLOAT\n",
      "tobs FLOAT\n"
     ]
    }
   ],
   "source": [
    "#get column names for each table\n",
    "inspector = inspect(engine)\n",
    "columns = inspector.get_columns('measurement')\n",
    "for column in columns:\n",
    "    print(column[\"name\"], column[\"type\"])"
   ]
  },
  {
   "cell_type": "code",
   "execution_count": 106,
   "metadata": {
    "tags": []
   },
   "outputs": [
    {
     "name": "stdout",
     "output_type": "stream",
     "text": [
      "id INTEGER\n",
      "station TEXT\n",
      "name TEXT\n",
      "latitude FLOAT\n",
      "longitude FLOAT\n",
      "elevation FLOAT\n"
     ]
    }
   ],
   "source": [
    "columns = inspector.get_columns('station')\n",
    "for column in columns:\n",
    "    print(column[\"name\"], column[\"type\"])"
   ]
  },
  {
   "cell_type": "code",
   "execution_count": 107,
   "metadata": {
    "tags": []
   },
   "outputs": [
    {
     "data": {
      "text/plain": [
       "('2017-08-23',)"
      ]
     },
     "execution_count": 107,
     "metadata": {},
     "output_type": "execute_result"
    }
   ],
   "source": [
    "# Find the most recent date in the data set.\n",
    "most_recent = session.query(Measurement.date).order_by(Measurement.date.desc()).first()\n",
    "\n",
    "most_recent"
   ]
  },
  {
   "cell_type": "code",
   "execution_count": 108,
   "metadata": {
    "tags": []
   },
   "outputs": [
    {
     "data": {
      "text/html": [
       "<div>\n",
       "<style scoped>\n",
       "    .dataframe tbody tr th:only-of-type {\n",
       "        vertical-align: middle;\n",
       "    }\n",
       "\n",
       "    .dataframe tbody tr th {\n",
       "        vertical-align: top;\n",
       "    }\n",
       "\n",
       "    .dataframe thead th {\n",
       "        text-align: right;\n",
       "    }\n",
       "</style>\n",
       "<table border=\"1\" class=\"dataframe\">\n",
       "  <thead>\n",
       "    <tr style=\"text-align: right;\">\n",
       "      <th></th>\n",
       "      <th>Precipitation</th>\n",
       "    </tr>\n",
       "    <tr>\n",
       "      <th>Date</th>\n",
       "      <th></th>\n",
       "    </tr>\n",
       "  </thead>\n",
       "  <tbody>\n",
       "    <tr>\n",
       "      <th>2017-08-23</th>\n",
       "      <td>0.45</td>\n",
       "    </tr>\n",
       "    <tr>\n",
       "      <th>2017-08-23</th>\n",
       "      <td>0.08</td>\n",
       "    </tr>\n",
       "    <tr>\n",
       "      <th>2017-08-23</th>\n",
       "      <td>0.00</td>\n",
       "    </tr>\n",
       "    <tr>\n",
       "      <th>2017-08-23</th>\n",
       "      <td>0.00</td>\n",
       "    </tr>\n",
       "    <tr>\n",
       "      <th>2017-08-22</th>\n",
       "      <td>0.00</td>\n",
       "    </tr>\n",
       "  </tbody>\n",
       "</table>\n",
       "</div>"
      ],
      "text/plain": [
       "            Precipitation\n",
       "Date                     \n",
       "2017-08-23           0.45\n",
       "2017-08-23           0.08\n",
       "2017-08-23           0.00\n",
       "2017-08-23           0.00\n",
       "2017-08-22           0.00"
      ]
     },
     "execution_count": 108,
     "metadata": {},
     "output_type": "execute_result"
    }
   ],
   "source": [
    "# Design a query to retrieve the last 12 months of precipitation data and plot the results. \n",
    "# Calculate the date one year from the last date in data set.\n",
    "most_recent =dt.date(2017, 8, 23)\n",
    "start_date = most_recent - dt.timedelta(days=365)\n",
    "\n",
    "# Perform a query to retrieve the data and precipitation scores\n",
    "results = session.query(Measurement.date, Measurement.prcp).filter(Measurement.date >= start_date, Measurement.date <= most_recent).all()\n",
    "\n",
    "# Save the query results as a Pandas DataFrame. Explicitly set the column names\n",
    "data = []\n",
    "for result in results:\n",
    "    data.append({'Date': result.date, 'Precipitation': result.prcp}) \n",
    "df = pd.DataFrame(data, columns=['Date','Precipitation'])\n",
    "\n",
    "# Sort the dataframe by date\n",
    "df = df.sort_values(by='Date', ascending=False).fillna(0.0)\n",
    "\n",
    "df['Date'] = pd.to_datetime(df['Date'])\n",
    "df.set_index('Date', inplace=True)\n",
    "df.head()"
   ]
  },
  {
   "cell_type": "code",
   "execution_count": 109,
   "metadata": {},
   "outputs": [
    {
     "data": {
      "text/plain": [
       "count    2230.000000\n",
       "mean        0.160664\n",
       "std         0.442067\n",
       "min         0.000000\n",
       "25%         0.000000\n",
       "50%         0.010000\n",
       "75%         0.110000\n",
       "max         6.700000\n",
       "Name: Precipitation, dtype: float64"
      ]
     },
     "execution_count": 109,
     "metadata": {},
     "output_type": "execute_result"
    }
   ],
   "source": [
    "# Use Pandas to calculate the summary statistics for the precipitation data\n",
    "precipitation_summary = df['Precipitation'].describe()\n",
    "precipitation_summary"
   ]
  },
  {
   "cell_type": "code",
   "execution_count": 110,
   "metadata": {
    "tags": []
   },
   "outputs": [
    {
     "data": {
      "image/png": "[encoded data removed]",
      "text/plain": [
       "<Figure size 1000x600 with 1 Axes>"
      ]
     },
     "metadata": {},
     "output_type": "display_data"
    }
   ],
   "source": [
    "# Plot the data using Pandas' \n",
    "ax = df.plot(figsize=(10, 6))\n",
    "\n",
    "# Customize the plot\n",
    "ax.set_xlabel('Date')\n",
    "ax.set_ylabel('Precipitation')\n",
    "ax.set_title('Precipitation Data')\n",
    "\n",
    "# Show the plot\n",
    "plt.tight_layout()\n",
    "plt.show()\n"
   ]
  },
  {
   "cell_type": "markdown",
   "metadata": {},
   "source": [
    "# Exploratory Station Analysis"
   ]
  },
  {
   "cell_type": "markdown",
   "metadata": {
    "tags": []
   },
   "source": [
    "station.columns\n",
    "id INTEGER\n",
    "station TEXT\n",
    "name TEXT\n",
    "latitude FLOAT\n",
    "longitude FLOAT\n",
    "elevation FLOAT"
   ]
  },
  {
   "cell_type": "code",
   "execution_count": 111,
   "metadata": {},
   "outputs": [
    {
     "name": "stdout",
     "output_type": "stream",
     "text": [
      "Total number of stations: 9\n"
     ]
    }
   ],
   "source": [
    "# Design a query to calculate the total number of stations in the dataset\n",
    "total_stations = session.query(func.count(Station.station)).scalar()\n",
    "\n",
    "# Print the total number of stations\n",
    "print(\"Total number of stations:\", total_stations)"
   ]
  },
  {
   "cell_type": "code",
   "execution_count": 112,
   "metadata": {},
   "outputs": [
    {
     "name": "stdout",
     "output_type": "stream",
     "text": [
      "Most active stations:\n",
      "Station USC00519281: 2772 rows\n",
      "Station USC00519397: 2724 rows\n",
      "Station USC00513117: 2709 rows\n",
      "Station USC00519523: 2669 rows\n",
      "Station USC00516128: 2612 rows\n",
      "Station USC00514830: 2202 rows\n",
      "Station USC00511918: 1979 rows\n",
      "Station USC00517948: 1372 rows\n",
      "Station USC00518838: 511 rows\n"
     ]
    }
   ],
   "source": [
    "# Design a query to find the most active stations (i.e. which stations have the most rows?)\n",
    "# List the stations and their counts in descending order.\n",
    "most_active = session.query(Measurement.station, func.count(Measurement.station)).\\\n",
    "    group_by(Measurement.station).\\\n",
    "    order_by(func.count(Measurement.station).desc()).all()\n",
    "\n",
    "# Print the results\n",
    "print(\"Most active stations:\")\n",
    "for station, count in most_active:\n",
    "    print(f\"Station {station}: {count} rows\")"
   ]
  },
  {
   "cell_type": "code",
   "execution_count": 113,
   "metadata": {
    "tags": []
   },
   "outputs": [
    {
     "name": "stdout",
     "output_type": "stream",
     "text": [
      "Most active station: USC00519281\n"
     ]
    }
   ],
   "source": [
    "# Access the most active station and its count from the first tuple\n",
    "most_active_station_count = most_active[0]\n",
    "\n",
    "# Extract the station name (assuming it's the first element in the tuple)\n",
    "most_active_station = most_active_station_count[0].strip()\n",
    "\n",
    "# Print the most active station name\n",
    "print(\"Most active station:\", most_active_station)\n"
   ]
  },
  {
   "cell_type": "code",
   "execution_count": 114,
   "metadata": {
    "tags": []
   },
   "outputs": [
    {
     "name": "stdout",
     "output_type": "stream",
     "text": [
      "Temperature statistics for station USC00519281 :\n",
      "Lowest Temperature: 54.0\n",
      "Highest Temperature: 85.0\n",
      "Average Temperature: 71.66378066378067\n"
     ]
    }
   ],
   "source": [
    "# Query to calculate lowest, highest, and average temperature for the most active station\n",
    "temperature_stats = session.query(func.min(Measurement.tobs), func.max(Measurement.tobs), func.avg(Measurement.tobs)).\\\n",
    "    filter(Measurement.station == most_active_station).first()\n",
    "\n",
    "if temperature_stats:\n",
    "    print(f\"Temperature statistics for station\" , most_active_station, \":\")\n",
    "    print(f\"Lowest Temperature: {temperature_stats[0]}\")\n",
    "    print(f\"Highest Temperature: {temperature_stats[1]}\")\n",
    "    print(f\"Average Temperature: {temperature_stats[2]}\")\n",
    "else:\n",
    "    print(\"No temperature statistics available for station\", most_active_station)\n"
   ]
  },
  {
   "cell_type": "code",
   "execution_count": 115,
   "metadata": {
    "tags": []
   },
   "outputs": [
    {
     "name": "stdout",
     "output_type": "stream",
     "text": [
      "Date\tTemperature\n",
      "2016-08-23\t77.0\n",
      "2016-08-24\t77.0\n",
      "2016-08-25\t80.0\n",
      "2016-08-26\t80.0\n",
      "2016-08-27\t75.0\n",
      "2016-08-28\t73.0\n",
      "2016-08-29\t78.0\n",
      "2016-08-30\t77.0\n",
      "2016-08-31\t78.0\n",
      "2016-09-01\t80.0\n",
      "2016-09-02\t80.0\n",
      "2016-09-03\t78.0\n",
      "2016-09-04\t78.0\n",
      "2016-09-05\t78.0\n",
      "2016-09-06\t73.0\n",
      "2016-09-07\t74.0\n",
      "2016-09-08\t80.0\n",
      "2016-09-09\t79.0\n",
      "2016-09-10\t77.0\n",
      "2016-09-11\t80.0\n",
      "2016-09-12\t76.0\n",
      "2016-09-13\t79.0\n",
      "2016-09-14\t75.0\n",
      "2016-09-15\t79.0\n",
      "2016-09-16\t78.0\n",
      "2016-09-17\t79.0\n",
      "2016-09-18\t78.0\n",
      "2016-09-19\t78.0\n",
      "2016-09-20\t76.0\n",
      "2016-09-21\t74.0\n",
      "2016-09-22\t77.0\n",
      "2016-09-23\t78.0\n",
      "2016-09-24\t79.0\n",
      "2016-09-25\t79.0\n",
      "2016-09-26\t77.0\n",
      "2016-09-27\t80.0\n",
      "2016-09-28\t78.0\n",
      "2016-09-29\t78.0\n",
      "2016-09-30\t78.0\n",
      "2016-10-01\t77.0\n",
      "2016-10-02\t79.0\n",
      "2016-10-03\t79.0\n",
      "2016-10-04\t79.0\n",
      "2016-10-05\t79.0\n",
      "2016-10-06\t75.0\n",
      "2016-10-07\t76.0\n",
      "2016-10-08\t73.0\n",
      "2016-10-09\t72.0\n",
      "2016-10-10\t71.0\n",
      "2016-10-11\t77.0\n",
      "2016-10-12\t79.0\n",
      "2016-10-13\t78.0\n",
      "2016-10-14\t79.0\n",
      "2016-10-15\t77.0\n",
      "2016-10-16\t79.0\n",
      "2016-10-17\t77.0\n",
      "2016-10-18\t78.0\n",
      "2016-10-19\t78.0\n",
      "2016-10-20\t78.0\n",
      "2016-10-21\t78.0\n",
      "2016-10-22\t77.0\n",
      "2016-10-23\t74.0\n",
      "2016-10-24\t75.0\n",
      "2016-10-25\t76.0\n",
      "2016-10-26\t73.0\n",
      "2016-10-27\t76.0\n",
      "2016-10-28\t74.0\n",
      "2016-10-29\t77.0\n",
      "2016-10-30\t76.0\n",
      "2016-10-31\t76.0\n",
      "2016-11-01\t74.0\n",
      "2016-11-02\t75.0\n",
      "2016-11-03\t75.0\n",
      "2016-11-04\t75.0\n",
      "2016-11-05\t75.0\n",
      "2016-11-06\t71.0\n",
      "2016-11-07\t63.0\n",
      "2016-11-08\t70.0\n",
      "2016-11-09\t68.0\n",
      "2016-11-10\t67.0\n",
      "2016-11-11\t77.0\n",
      "2016-11-12\t74.0\n",
      "2016-11-13\t77.0\n",
      "2016-11-14\t76.0\n",
      "2016-11-15\t76.0\n",
      "2016-11-16\t75.0\n",
      "2016-11-17\t76.0\n",
      "2016-11-18\t75.0\n",
      "2016-11-19\t73.0\n",
      "2016-11-20\t75.0\n",
      "2016-11-21\t73.0\n",
      "2016-11-22\t75.0\n",
      "2016-11-23\t74.0\n",
      "2016-11-24\t75.0\n",
      "2016-11-25\t74.0\n",
      "2016-11-26\t75.0\n",
      "2016-11-27\t73.0\n",
      "2016-11-28\t75.0\n",
      "2016-11-29\t73.0\n",
      "2016-11-30\t73.0\n",
      "2016-12-01\t74.0\n",
      "2016-12-02\t70.0\n",
      "2016-12-03\t72.0\n",
      "2016-12-04\t70.0\n",
      "2016-12-05\t67.0\n",
      "2016-12-06\t67.0\n",
      "2016-12-07\t69.0\n",
      "2016-12-08\t70.0\n",
      "2016-12-09\t68.0\n",
      "2016-12-10\t69.0\n",
      "2016-12-11\t69.0\n",
      "2016-12-12\t66.0\n",
      "2016-12-13\t65.0\n",
      "2016-12-14\t68.0\n",
      "2016-12-15\t62.0\n",
      "2016-12-16\t75.0\n",
      "2016-12-17\t70.0\n",
      "2016-12-18\t69.0\n",
      "2016-12-19\t76.0\n",
      "2016-12-20\t76.0\n",
      "2016-12-21\t74.0\n",
      "2016-12-22\t73.0\n",
      "2016-12-23\t71.0\n",
      "2016-12-24\t74.0\n",
      "2016-12-25\t74.0\n",
      "2016-12-26\t72.0\n",
      "2016-12-27\t71.0\n",
      "2016-12-28\t72.0\n",
      "2016-12-29\t74.0\n",
      "2016-12-30\t69.0\n",
      "2016-12-31\t67.0\n",
      "2017-01-01\t72.0\n",
      "2017-01-02\t70.0\n",
      "2017-01-03\t64.0\n",
      "2017-01-04\t63.0\n",
      "2017-01-05\t63.0\n",
      "2017-01-06\t62.0\n",
      "2017-01-07\t70.0\n",
      "2017-01-08\t70.0\n",
      "2017-01-09\t62.0\n",
      "2017-01-10\t62.0\n",
      "2017-01-11\t63.0\n",
      "2017-01-12\t65.0\n",
      "2017-01-13\t69.0\n",
      "2017-01-14\t77.0\n",
      "2017-01-15\t70.0\n",
      "2017-01-16\t74.0\n",
      "2017-01-17\t69.0\n",
      "2017-01-18\t72.0\n",
      "2017-01-19\t71.0\n",
      "2017-01-20\t69.0\n",
      "2017-01-21\t71.0\n",
      "2017-01-22\t71.0\n",
      "2017-01-23\t72.0\n",
      "2017-01-24\t72.0\n",
      "2017-01-25\t69.0\n",
      "2017-01-26\t70.0\n",
      "2017-01-27\t66.0\n",
      "2017-01-28\t65.0\n",
      "2017-01-29\t69.0\n",
      "2017-01-30\t68.0\n",
      "2017-01-31\t68.0\n",
      "2017-02-01\t68.0\n",
      "2017-02-02\t59.0\n",
      "2017-02-03\t60.0\n",
      "2017-02-04\t70.0\n",
      "2017-02-05\t73.0\n",
      "2017-02-06\t75.0\n",
      "2017-02-07\t64.0\n",
      "2017-02-08\t59.0\n",
      "2017-02-09\t59.0\n",
      "2017-02-10\t62.0\n",
      "2017-02-11\t68.0\n",
      "2017-02-12\t70.0\n",
      "2017-02-13\t73.0\n",
      "2017-02-14\t79.0\n",
      "2017-02-15\t75.0\n",
      "2017-02-16\t65.0\n",
      "2017-02-17\t70.0\n",
      "2017-02-18\t74.0\n",
      "2017-02-19\t70.0\n",
      "2017-02-20\t70.0\n",
      "2017-02-21\t71.0\n",
      "2017-02-22\t71.0\n",
      "2017-02-23\t71.0\n",
      "2017-02-24\t69.0\n",
      "2017-02-25\t61.0\n",
      "2017-02-26\t67.0\n",
      "2017-02-27\t65.0\n",
      "2017-02-28\t72.0\n",
      "2017-03-01\t71.0\n",
      "2017-03-02\t73.0\n",
      "2017-03-03\t72.0\n",
      "2017-03-04\t77.0\n",
      "2017-03-05\t73.0\n",
      "2017-03-06\t67.0\n",
      "2017-03-07\t62.0\n",
      "2017-03-08\t64.0\n",
      "2017-03-09\t67.0\n",
      "2017-03-10\t66.0\n",
      "2017-03-11\t81.0\n",
      "2017-03-12\t69.0\n",
      "2017-03-13\t66.0\n",
      "2017-03-14\t67.0\n",
      "2017-03-15\t69.0\n",
      "2017-03-16\t66.0\n",
      "2017-03-17\t68.0\n",
      "2017-03-18\t65.0\n",
      "2017-03-19\t74.0\n",
      "2017-03-20\t69.0\n",
      "2017-03-21\t72.0\n",
      "2017-03-22\t73.0\n",
      "2017-03-23\t72.0\n",
      "2017-03-24\t71.0\n",
      "2017-03-25\t76.0\n",
      "2017-03-26\t77.0\n",
      "2017-03-27\t76.0\n",
      "2017-03-28\t74.0\n",
      "2017-03-29\t68.0\n",
      "2017-03-30\t73.0\n",
      "2017-03-31\t71.0\n",
      "2017-04-01\t74.0\n",
      "2017-04-02\t75.0\n",
      "2017-04-03\t70.0\n",
      "2017-04-04\t67.0\n",
      "2017-04-05\t71.0\n",
      "2017-04-06\t67.0\n",
      "2017-04-07\t74.0\n",
      "2017-04-08\t77.0\n",
      "2017-04-09\t78.0\n",
      "2017-04-10\t67.0\n",
      "2017-04-11\t70.0\n",
      "2017-04-12\t69.0\n",
      "2017-04-13\t69.0\n",
      "2017-04-14\t74.0\n",
      "2017-04-15\t78.0\n",
      "2017-04-16\t71.0\n",
      "2017-04-17\t67.0\n",
      "2017-04-18\t68.0\n",
      "2017-04-19\t67.0\n",
      "2017-04-20\t76.0\n",
      "2017-04-21\t69.0\n",
      "2017-04-22\t72.0\n",
      "2017-04-23\t76.0\n",
      "2017-04-24\t68.0\n",
      "2017-04-25\t72.0\n",
      "2017-04-26\t74.0\n",
      "2017-04-27\t70.0\n",
      "2017-04-28\t67.0\n",
      "2017-04-29\t72.0\n",
      "2017-04-30\t60.0\n",
      "2017-05-01\t65.0\n",
      "2017-05-02\t75.0\n",
      "2017-05-03\t70.0\n",
      "2017-05-04\t75.0\n",
      "2017-05-05\t70.0\n",
      "2017-05-06\t79.0\n",
      "2017-05-07\t75.0\n",
      "2017-05-08\t70.0\n",
      "2017-05-09\t67.0\n",
      "2017-05-10\t74.0\n",
      "2017-05-11\t70.0\n",
      "2017-05-12\t75.0\n",
      "2017-05-13\t76.0\n",
      "2017-05-14\t77.0\n",
      "2017-05-15\t74.0\n",
      "2017-05-16\t74.0\n",
      "2017-05-17\t74.0\n",
      "2017-05-18\t69.0\n",
      "2017-05-19\t68.0\n",
      "2017-05-20\t76.0\n",
      "2017-05-21\t74.0\n",
      "2017-05-22\t71.0\n",
      "2017-05-23\t71.0\n",
      "2017-05-24\t74.0\n",
      "2017-05-25\t74.0\n",
      "2017-05-26\t74.0\n",
      "2017-05-27\t74.0\n",
      "2017-05-28\t80.0\n",
      "2017-05-29\t74.0\n",
      "2017-05-30\t72.0\n",
      "2017-05-31\t75.0\n",
      "2017-06-01\t80.0\n",
      "2017-06-02\t76.0\n",
      "2017-06-03\t76.0\n",
      "2017-06-04\t77.0\n",
      "2017-06-05\t75.0\n",
      "2017-06-06\t75.0\n",
      "2017-06-07\t75.0\n",
      "2017-06-08\t75.0\n",
      "2017-06-09\t72.0\n",
      "2017-06-10\t74.0\n",
      "2017-06-11\t74.0\n",
      "2017-06-12\t74.0\n",
      "2017-06-13\t76.0\n",
      "2017-06-14\t74.0\n",
      "2017-06-15\t75.0\n",
      "2017-06-16\t73.0\n",
      "2017-06-17\t79.0\n",
      "2017-06-18\t75.0\n",
      "2017-06-19\t72.0\n",
      "2017-06-20\t72.0\n",
      "2017-06-21\t74.0\n",
      "2017-06-22\t72.0\n",
      "2017-06-23\t72.0\n",
      "2017-06-24\t77.0\n",
      "2017-06-25\t71.0\n",
      "2017-06-26\t73.0\n",
      "2017-06-27\t76.0\n",
      "2017-06-28\t77.0\n",
      "2017-06-29\t76.0\n",
      "2017-06-30\t76.0\n",
      "2017-07-01\t79.0\n",
      "2017-07-02\t81.0\n",
      "2017-07-03\t76.0\n",
      "2017-07-04\t78.0\n",
      "2017-07-05\t77.0\n",
      "2017-07-06\t74.0\n",
      "2017-07-07\t75.0\n",
      "2017-07-08\t78.0\n",
      "2017-07-09\t78.0\n",
      "2017-07-10\t69.0\n",
      "2017-07-11\t72.0\n",
      "2017-07-12\t74.0\n",
      "2017-07-13\t74.0\n",
      "2017-07-14\t76.0\n",
      "2017-07-15\t80.0\n",
      "2017-07-16\t80.0\n",
      "2017-07-17\t76.0\n",
      "2017-07-18\t76.0\n",
      "2017-07-19\t76.0\n",
      "2017-07-20\t77.0\n",
      "2017-07-21\t77.0\n",
      "2017-07-22\t77.0\n",
      "2017-07-23\t82.0\n",
      "2017-07-24\t75.0\n",
      "2017-07-25\t77.0\n",
      "2017-07-26\t75.0\n",
      "2017-07-27\t76.0\n",
      "2017-07-28\t81.0\n",
      "2017-07-29\t82.0\n",
      "2017-07-30\t81.0\n",
      "2017-07-31\t76.0\n",
      "2017-08-04\t77.0\n",
      "2017-08-05\t82.0\n",
      "2017-08-06\t83.0\n",
      "2017-08-13\t77.0\n",
      "2017-08-14\t77.0\n",
      "2017-08-15\t77.0\n",
      "2017-08-16\t76.0\n",
      "2017-08-17\t76.0\n",
      "2017-08-18\t79.0\n"
     ]
    }
   ],
   "source": [
    "# Using the most active station id\n",
    "# Query the last 12 months of temperature observation data for this station and plot the results as a histogram\n",
    "yr_temps = session.query(Measurement.date, Measurement.tobs).\\\n",
    "    filter(Measurement.station == most_active_station, Measurement.date >= start_date, Measurement.date <= most_recent).all()\n",
    "\n",
    "# Extract temperature data into a list\n",
    "temperatures = [temp for date, temp in yr_temps]\n",
    "print(\"Date\\tTemperature\")\n",
    "for date, temp in yr_temps:\n",
    "    print(f\"{date}\\t{temp}\")"
   ]
  },
  {
   "cell_type": "code",
   "execution_count": 116,
   "metadata": {},
   "outputs": [
    {
     "data": {
      "image/png": "[encoded data removed]",
      "text/plain": [
       "<Figure size 1000x800 with 1 Axes>"
      ]
     },
     "metadata": {},
     "output_type": "display_data"
    }
   ],
   "source": [
    "\n",
    "\n",
    "# Create a histogram using Matplotlib\n",
    "plt.figure(figsize=(10, 8))\n",
    "plt.hist(temperatures, bins=12, edgecolor='black', alpha=0.7)\n",
    "plt.xlabel('Temperature (°F)')\n",
    "plt.ylabel('Frequency')\n",
    "plt.title(f'Temperature Histogram for Station ' + most_active_station)\n",
    "plt.tight_layout()\n",
    "plt.show()"
   ]
  },
  {
   "cell_type": "markdown",
   "metadata": {},
   "source": [
    "# Close Session"
   ]
  },
  {
   "cell_type": "code",
   "execution_count": 117,
   "metadata": {},
   "outputs": [],
   "source": [
    "# Close Session\n",
    "session.close()"
   ]
  },
  {
   "cell_type": "code",
   "execution_count": null,
   "metadata": {},
   "outputs": [],
   "source": []
  }
 ],
 "metadata": {
  "anaconda-cloud": {},
  "kernel_info": {
   "name": "python3"
  },
  "kernelspec": {
   "display_name": "Python 3 (ipykernel)",
   "language": "python",
   "name": "python3"
  },
  "language_info": {
   "codemirror_mode": {
    "name": "ipython",
    "version": 3
   },
   "file_extension": ".py",
   "mimetype": "text/x-python",
   "name": "python",
   "nbconvert_exporter": "python",
   "pygments_lexer": "ipython3",
   "version": "3.10.11"
  },
  "nteract": {
   "version": "0.12.3"
  },
  "varInspector": {
   "cols": {
    "lenName": 16,
    "lenType": 16,
    "lenVar": 40
   },
   "kernels_config": {
    "python": {
     "delete_cmd_postfix": "",
     "delete_cmd_prefix": "del ",
     "library": "var_list.py",
     "varRefreshCmd": "print(var_dic_list())"
    },
    "r": {
     "delete_cmd_postfix": ") ",
     "delete_cmd_prefix": "rm(",
     "library": "var_list.r",
     "varRefreshCmd": "cat(var_dic_list()) "
    }
   },
   "types_to_exclude": [
    "module",
    "function",
    "builtin_function_or_method",
    "instance",
    "_Feature"
   ],
   "window_display": false
  }
 },
 "nbformat": 4,
 "nbformat_minor": 4
}
